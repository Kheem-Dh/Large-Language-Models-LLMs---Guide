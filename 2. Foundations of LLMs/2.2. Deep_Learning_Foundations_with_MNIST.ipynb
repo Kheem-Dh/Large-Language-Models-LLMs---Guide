{
  "nbformat": 4,
  "nbformat_minor": 0,
  "metadata": {
    "colab": {
      "provenance": []
    },
    "kernelspec": {
      "name": "python3",
      "display_name": "Python 3"
    },
    "language_info": {
      "name": "python"
    }
  },
  "cells": [
    {
      "cell_type": "markdown",
      "source": [
        "#Deep Learning Foundations with MNIST\n"
      ],
      "metadata": {
        "id": "ZGmtEBwGqzRr"
      }
    },
    {
      "cell_type": "markdown",
      "source": [
        "### Import Libraries\n"
      ],
      "metadata": {
        "id": "3ggBd4Pqq93i"
      }
    },
    {
      "cell_type": "code",
      "execution_count": 1,
      "metadata": {
        "id": "rP7IJww5qu5r"
      },
      "outputs": [],
      "source": [
        "import numpy as np\n",
        "import tensorflow as tf\n",
        "from tensorflow.keras.datasets import mnist\n",
        "from tensorflow.keras.models import Sequential\n",
        "from tensorflow.keras.layers import Dense, Flatten\n",
        "from tensorflow.keras.utils import to_categorical\n",
        "import matplotlib.pyplot as plt"
      ]
    },
    {
      "cell_type": "markdown",
      "source": [
        "### Load and Preprocess the MNIST Dataset\n"
      ],
      "metadata": {
        "id": "FDhBrEHArA_i"
      }
    },
    {
      "cell_type": "code",
      "source": [
        "# Load dataset\n",
        "(train_images, train_labels), (test_images, test_labels) = mnist.load_data()\n",
        "\n",
        "# Normalize pixel values to be between 0 and 1\n",
        "train_images, test_images = train_images / 255.0, test_images / 255.0\n",
        "\n",
        "# One-hot encode labels\n",
        "train_labels = to_categorical(train_labels)\n",
        "test_labels = to_categorical(test_labels)\n",
        "\n",
        "# Display the first image\n",
        "plt.imshow(train_images[0], cmap='gray')\n",
        "plt.title(\"Label: {}\".format(np.argmax(train_labels[0])))\n",
        "plt.show()"
      ],
      "metadata": {
        "colab": {
          "base_uri": "https://localhost:8080/",
          "height": 487
        },
        "id": "pmaxWx9hq4IN",
        "outputId": "97e3d728-50e1-4105-b4ad-168064686608"
      },
      "execution_count": 2,
      "outputs": [
        {
          "output_type": "stream",
          "name": "stdout",
          "text": [
            "Downloading data from https://storage.googleapis.com/tensorflow/tf-keras-datasets/mnist.npz\n",
            "11490434/11490434 [==============================] - 0s 0us/step\n"
          ]
        },
        {
          "output_type": "display_data",
          "data": {
            "text/plain": [
              "<Figure size 640x480 with 1 Axes>"
            ],
            "image/png": "[encoded data removed]"
          },
          "metadata": {}
        }
      ]
    },
    {
      "cell_type": "markdown",
      "source": [
        "### Build the Neural Network Model\n",
        "1. Layers and Activation Functions\n",
        "Here, we'll use `Dense` layers (fully connected layers) and the ReLU activation function for the hidden layers. The output layer will use the `Softmax` activation function, which is commonly used for multi-class classification tasks."
      ],
      "metadata": {
        "id": "iX_hd8m9rGmF"
      }
    },
    {
      "cell_type": "code",
      "source": [
        "model = Sequential([\n",
        "    Flatten(input_shape=(28, 28)),  # Flatten the 28x28 images into a 1D array\n",
        "    Dense(128, activation='relu'),  # Hidden layer with 128 units and ReLU activation\n",
        "    Dense(10, activation='softmax') # Output layer with 10 units (for 10 classes) and Softmax activation\n",
        "])"
      ],
      "metadata": {
        "id": "D4aG5tuArDYN"
      },
      "execution_count": 3,
      "outputs": []
    },
    {
      "cell_type": "markdown",
      "source": [
        "2. Loss Function and Optimization Technique\n",
        "For multi-class classification, the commonly used loss function is the `categorical_crossentropy`. We'll use the `Adam` optimizer, which is an extension of stochastic gradient descent and is quite effective in practice."
      ],
      "metadata": {
        "id": "Y2EOpVABrTVu"
      }
    },
    {
      "cell_type": "code",
      "source": [
        "model.compile(optimizer='adam',\n",
        "              loss='categorical_crossentropy',\n",
        "              metrics=['accuracy'])\n"
      ],
      "metadata": {
        "id": "Mz1c7T-4rPdD"
      },
      "execution_count": 4,
      "outputs": []
    },
    {
      "cell_type": "markdown",
      "source": [
        "### Train the Model\n"
      ],
      "metadata": {
        "id": "fc1fcCHprdBv"
      }
    },
    {
      "cell_type": "code",
      "source": [
        "history = model.fit(train_images, train_labels, epochs=5, validation_data=(test_images, test_labels))"
      ],
      "metadata": {
        "colab": {
          "base_uri": "https://localhost:8080/"
        },
        "id": "6dlppkKYrbFE",
        "outputId": "bb5d0549-c4bc-43cc-a3bd-6ac776583ad3"
      },
      "execution_count": 5,
      "outputs": [
        {
          "output_type": "stream",
          "name": "stdout",
          "text": [
            "Epoch 1/5\n",
            "1875/1875 [==============================] - 5s 2ms/step - loss: 0.2580 - accuracy: 0.9265 - val_loss: 0.1324 - val_accuracy: 0.9587\n",
            "Epoch 2/5\n",
            "1875/1875 [==============================] - 4s 2ms/step - loss: 0.1158 - accuracy: 0.9661 - val_loss: 0.0968 - val_accuracy: 0.9724\n",
            "Epoch 3/5\n",
            "1875/1875 [==============================] - 4s 2ms/step - loss: 0.0774 - accuracy: 0.9771 - val_loss: 0.1049 - val_accuracy: 0.9662\n",
            "Epoch 4/5\n",
            "1875/1875 [==============================] - 5s 3ms/step - loss: 0.0577 - accuracy: 0.9831 - val_loss: 0.0779 - val_accuracy: 0.9773\n",
            "Epoch 5/5\n",
            "1875/1875 [==============================] - 5s 2ms/step - loss: 0.0437 - accuracy: 0.9866 - val_loss: 0.0744 - val_accuracy: 0.9777\n"
          ]
        }
      ]
    },
    {
      "cell_type": "markdown",
      "source": [
        "### Evaluate the Model's Performance\n"
      ],
      "metadata": {
        "id": "q5dy42ijrkuh"
      }
    },
    {
      "cell_type": "code",
      "source": [
        "test_loss, test_acc = model.evaluate(test_images, test_labels, verbose=2)\n",
        "print(\"\\nTest accuracy:\", test_acc)"
      ],
      "metadata": {
        "colab": {
          "base_uri": "https://localhost:8080/"
        },
        "id": "mcGyS6vorh_S",
        "outputId": "638f1828-0e3b-4ad5-8c6f-929d6ef7944a"
      },
      "execution_count": 6,
      "outputs": [
        {
          "output_type": "stream",
          "name": "stdout",
          "text": [
            "313/313 - 0s - loss: 0.0744 - accuracy: 0.9777 - 368ms/epoch - 1ms/step\n",
            "\n",
            "Test accuracy: 0.9776999950408936\n"
          ]
        }
      ]
    }
  ]
}
