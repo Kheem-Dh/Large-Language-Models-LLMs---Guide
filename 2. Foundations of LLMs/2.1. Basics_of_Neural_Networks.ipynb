{
  "nbformat": 4,
  "nbformat_minor": 0,
  "metadata": {
    "colab": {
      "provenance": []
    },
    "kernelspec": {
      "name": "python3",
      "display_name": "Python 3"
    },
    "language_info": {
      "name": "python"
    }
  },
  "cells": [
    {
      "cell_type": "markdown",
      "source": [
        "#Basics of Neural Networks\n"
      ],
      "metadata": {
        "id": "nCsXCICo1Bx6"
      }
    },
    {
      "cell_type": "markdown",
      "source": [
        "## History and Intuition Behind Neural Networks\n"
      ],
      "metadata": {
        "id": "R5ojUG4u1FrZ"
      }
    },
    {
      "cell_type": "markdown",
      "source": [
        "Neural Networks, inspired by the biological neural networks of our brain, were introduced as an attempt to simulate the behavior of the brain — to recognize patterns, interpret sensory data, and make decisions.\n",
        "\n",
        "Historically, the concept can be traced back to the 1940s and 1950s with the introduction of the Perceptron model. The idea was to mimic a neuron's behavior: receiving input, processing it, and producing an output."
      ],
      "metadata": {
        "id": "L0aTYdq81J-u"
      }
    },
    {
      "cell_type": "markdown",
      "source": [
        "## Feedforward Neural Networks\n"
      ],
      "metadata": {
        "id": "jpXTx_4S1NNZ"
      }
    },
    {
      "cell_type": "markdown",
      "source": [
        "Feedforward Neural Networks (FNNs) are the simplest type of artificial neural network architecture. In an FNN, the data flows in one direction — from the input layer, through the hidden layers, to the output layer. There are no loops in the network, meaning no cycles or backpropagation of data.\n",
        "\n"
      ],
      "metadata": {
        "id": "jfRB8vcH1QAA"
      }
    },
    {
      "cell_type": "markdown",
      "source": [
        "## Backpropagation"
      ],
      "metadata": {
        "id": "c8tX9T741WzQ"
      }
    },
    {
      "cell_type": "markdown",
      "source": [
        "Backpropagation, or \"backward propagation of errors,\" is a supervised learning algorithm used for training FNNs. It adjusts the weights of the neurons by calculating the gradient of the loss function concerning each weight. This is achieved using the chain rule of calculus."
      ],
      "metadata": {
        "id": "ghi1FyRc1akh"
      }
    },
    {
      "cell_type": "markdown",
      "source": [
        "## Neural Network Architectures\n"
      ],
      "metadata": {
        "id": "NCYjKgDR1hKB"
      }
    },
    {
      "cell_type": "markdown",
      "source": [
        "### Single Layer Perceptron (SLP)\n",
        "SLPs are the most basic form of a neural network. They consist of a single layer that connects inputs to outputs. However, SLPs are limited in their capabilities and can only solve linearly separable problems.\n",
        "\n",
        "### Multi-Layer Perceptron (MLP)\n",
        "MLPs, also known as Deep Feedforward Neural Networks, contain more than one layer of neurons, typically comprising an input layer, several hidden layers, and an output layer. MLPs can solve more complex problems than SLPs, including non-linear problems."
      ],
      "metadata": {
        "id": "ggNf1uV91nF_"
      }
    },
    {
      "cell_type": "code",
      "execution_count": 1,
      "metadata": {
        "colab": {
          "base_uri": "https://localhost:8080/"
        },
        "id": "6ph6onLM06Nu",
        "outputId": "add4a3ad-90e9-474f-838b-52b665cb4ce4"
      },
      "outputs": [
        {
          "output_type": "stream",
          "name": "stdout",
          "text": [
            "Epoch 1/10 - Loss: 0.7408\n",
            "Epoch 2/10 - Loss: 0.7379\n",
            "Epoch 3/10 - Loss: 0.7351\n",
            "Epoch 4/10 - Loss: 0.7324\n",
            "Epoch 5/10 - Loss: 0.7298\n",
            "Epoch 6/10 - Loss: 0.7273\n",
            "Epoch 7/10 - Loss: 0.7249\n",
            "Epoch 8/10 - Loss: 0.7226\n",
            "Epoch 9/10 - Loss: 0.7203\n",
            "Epoch 10/10 - Loss: 0.7182\n"
          ]
        }
      ],
      "source": [
        "import torch\n",
        "import torch.nn as nn\n",
        "import torch.optim as optim\n",
        "\n",
        "# Define a simple MLP architecture\n",
        "class MLP(nn.Module):\n",
        "    def __init__(self, input_dim, hidden_dim, output_dim):\n",
        "        super(MLP, self).__init__()\n",
        "        self.fc1 = nn.Linear(input_dim, hidden_dim)\n",
        "        self.fc2 = nn.Linear(hidden_dim, output_dim)\n",
        "        self.relu = nn.ReLU()\n",
        "\n",
        "    def forward(self, x):\n",
        "        x = self.fc1(x)\n",
        "        x = self.relu(x)\n",
        "        x = self.fc2(x)\n",
        "        return x\n",
        "\n",
        "# Sample data (for demonstration purposes)\n",
        "X = torch.rand((100, 10))  # 100 samples, 10 features each\n",
        "y = torch.randint(0, 2, (100,))  # Binary labels\n",
        "\n",
        "# Model, Loss, Optimizer\n",
        "model = MLP(input_dim=10, hidden_dim=20, output_dim=2)\n",
        "criterion = nn.CrossEntropyLoss()\n",
        "optimizer = optim.Adam(model.parameters(), lr=0.001)\n",
        "\n",
        "# Training loop\n",
        "epochs = 10\n",
        "for epoch in range(epochs):\n",
        "    optimizer.zero_grad()\n",
        "    outputs = model(X)\n",
        "    loss = criterion(outputs, y)\n",
        "    loss.backward()\n",
        "    optimizer.step()\n",
        "    print(f\"Epoch {epoch+1}/{epochs} - Loss: {loss.item():.4f}\")\n"
      ]
    },
    {
      "cell_type": "markdown",
      "source": [
        "### Dataset Split: Training and Validation\n",
        "To evaluate the performance of our neural network, it's a good practice to split the dataset into training and validation sets. The training set is used to train the model, while the validation set is used to evaluate its performance during training.\n",
        "\n"
      ],
      "metadata": {
        "id": "EXH9vHE-2TtR"
      }
    },
    {
      "cell_type": "code",
      "source": [
        "from torch.utils.data import DataLoader, random_split, TensorDataset\n",
        "\n",
        "# Create a TensorDataset from our data\n",
        "dataset = TensorDataset(X, y)\n",
        "\n",
        "# Split the dataset into training and validation sets (80% train, 20% validation)\n",
        "train_size = int(0.8 * len(dataset))\n",
        "val_size = len(dataset) - train_size\n",
        "train_dataset, val_dataset = random_split(dataset, [train_size, val_size])\n",
        "\n",
        "# Create data loaders for training and validation\n",
        "train_loader = DataLoader(train_dataset, batch_size=32, shuffle=True)\n",
        "val_loader = DataLoader(val_dataset, batch_size=32, shuffle=False)\n"
      ],
      "metadata": {
        "id": "r87qOFPg13hn"
      },
      "execution_count": 2,
      "outputs": []
    },
    {
      "cell_type": "markdown",
      "source": [
        "### Model Evaluation\n",
        "To understand how well our model is doing during training, we evaluate it on the validation set at the end of each epoch and record the accuracy.\n",
        "\n"
      ],
      "metadata": {
        "id": "xW2rTo1L2eah"
      }
    },
    {
      "cell_type": "code",
      "source": [
        "def evaluate(model, dataloader):\n",
        "    model.eval()\n",
        "    correct = 0\n",
        "    total = 0\n",
        "    with torch.no_grad():\n",
        "        for inputs, labels in dataloader:\n",
        "            outputs = model(inputs)\n",
        "            _, predicted = torch.max(outputs, 1)\n",
        "            total += labels.size(0)\n",
        "            correct += (predicted == labels).sum().item()\n",
        "    return correct / total\n",
        "\n",
        "# Update our training loop to include evaluation\n",
        "epochs = 10\n",
        "train_losses = []\n",
        "val_accuracies = []\n",
        "\n",
        "for epoch in range(epochs):\n",
        "    model.train()\n",
        "    for inputs, labels in train_loader:\n",
        "        optimizer.zero_grad()\n",
        "        outputs = model(inputs)\n",
        "        loss = criterion(outputs, labels)\n",
        "        loss.backward()\n",
        "        optimizer.step()\n",
        "\n",
        "    train_losses.append(loss.item())\n",
        "    val_acc = evaluate(model, val_loader)\n",
        "    val_accuracies.append(val_acc)\n",
        "    print(f\"Epoch {epoch+1}/{epochs} - Loss: {loss.item():.4f}, Val Accuracy: {val_acc:.4f}\")\n"
      ],
      "metadata": {
        "colab": {
          "base_uri": "https://localhost:8080/"
        },
        "id": "fPCHXxTz2cQ3",
        "outputId": "2180c048-c49c-462f-c3aa-66e7c2cc1168"
      },
      "execution_count": 3,
      "outputs": [
        {
          "output_type": "stream",
          "name": "stdout",
          "text": [
            "Epoch 1/10 - Loss: 0.7336, Val Accuracy: 0.4500\n",
            "Epoch 2/10 - Loss: 0.7136, Val Accuracy: 0.4500\n",
            "Epoch 3/10 - Loss: 0.6591, Val Accuracy: 0.4500\n",
            "Epoch 4/10 - Loss: 0.6870, Val Accuracy: 0.4500\n",
            "Epoch 5/10 - Loss: 0.6971, Val Accuracy: 0.5000\n",
            "Epoch 6/10 - Loss: 0.6749, Val Accuracy: 0.4500\n",
            "Epoch 7/10 - Loss: 0.6714, Val Accuracy: 0.5000\n",
            "Epoch 8/10 - Loss: 0.6652, Val Accuracy: 0.6000\n",
            "Epoch 9/10 - Loss: 0.6890, Val Accuracy: 0.6500\n",
            "Epoch 10/10 - Loss: 0.6480, Val Accuracy: 0.6000\n"
          ]
        }
      ]
    },
    {
      "cell_type": "markdown",
      "source": [
        "### Visualization\n",
        "We can visualize the training process to understand the model's performance over time.\n",
        "\n"
      ],
      "metadata": {
        "id": "ODCjHu8T2ma7"
      }
    },
    {
      "cell_type": "code",
      "source": [
        "import matplotlib.pyplot as plt\n",
        "\n",
        "# Plot training loss and validation accuracy\n",
        "fig, ax1 = plt.subplots()\n",
        "\n",
        "color = 'tab:red'\n",
        "ax1.set_xlabel('Epochs')\n",
        "ax1.set_ylabel('Loss', color=color)\n",
        "ax1.plot(range(epochs), train_losses, color=color)\n",
        "ax1.tick_params(axis='y', labelcolor=color)\n",
        "\n",
        "ax2 = ax1.twinx()\n",
        "color = 'tab:blue'\n",
        "ax2.set_ylabel('Accuracy', color=color)\n",
        "ax2.plot(range(epochs), val_accuracies, color=color)\n",
        "ax2.tick_params(axis='y', labelcolor=color)\n",
        "\n",
        "fig.tight_layout()\n",
        "plt.show()\n"
      ],
      "metadata": {
        "colab": {
          "base_uri": "https://localhost:8080/",
          "height": 487
        },
        "id": "7Sd8Vk9a2iWF",
        "outputId": "a33c9164-0e05-40b1-88f4-692acb506928"
      },
      "execution_count": 4,
      "outputs": [
        {
          "output_type": "display_data",
          "data": {
            "text/plain": [
              "<Figure size 640x480 with 2 Axes>"
            ],
            "image/png": "[encoded data removed]"
          },
          "metadata": {}
        }
      ]
    },
    {
      "cell_type": "code",
      "source": [],
      "metadata": {
        "id": "pe2OXCS-2qjo"
      },
      "execution_count": null,
      "outputs": []
    }
  ]
}
